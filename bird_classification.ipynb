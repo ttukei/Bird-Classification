{
  "cells": [
    {
      "cell_type": "markdown",
      "source": [
        "# Gather data\n",
        "```\n",
        "https://data.caltech.edu/records/65de6-vp158\n",
        "```\n"
      ],
      "metadata": {
        "id": "WkzQeuL7QbHi"
      }
    },
    {
      "cell_type": "markdown",
      "metadata": {
        "id": "JN0PVDh5fSvk"
      },
      "source": [
        "# Prepare the Data"
      ]
    },
    {
      "cell_type": "code",
      "source": [
        "# Autheticate google cloud\n",
        "from google.colab import auth\n",
        "auth.authenticate_user()"
      ],
      "metadata": {
        "id": "EVKukAttcDB9"
      },
      "execution_count": null,
      "outputs": []
    },
    {
      "cell_type": "code",
      "execution_count": null,
      "metadata": {
        "id": "cqSoZEPB8lVV"
      },
      "outputs": [],
      "source": [
        "# Download dataset and unzip the file\n",
        "!gsutil -m cp -r gs://bucket/CUB_200_2011.tgz /content/bird-classification"
      ]
    },
    {
      "cell_type": "code",
      "execution_count": null,
      "metadata": {
        "collapsed": true,
        "id": "mB-NGv907TZS"
      },
      "outputs": [],
      "source": [
        "import pandas as pd\n",
        "\n",
        "# Load metadata\n",
        "images_df = pd.read_csv('CUB_200_2011/images.txt',\n",
        "                        sep=' ',\n",
        "                        header=None,\n",
        "                        names=['Image_ID','File_Path'])\n",
        "labels_df = pd.read_csv('CUB_200_2011/image_class_labels.txt',\n",
        "                        sep=' ',\n",
        "                        header=None,\n",
        "                        names=['Image_ID','Class_ID'])\n",
        "split_df = pd.read_csv('CUB_200_2011/train_test_split.txt',\n",
        "                       sep=' ',\n",
        "                       header=None,\n",
        "                       names=['Image_ID', 'Is_Training'])\n",
        "bbox_df = pd.read_csv('CUB_200_2011/bounding_boxes.txt',\n",
        "                      sep=' ',\n",
        "                      header=None,\n",
        "                      names=['Image_ID', 'X', 'Y', 'Width', 'Height'])\n",
        "\n",
        "# Merge metadata into a single data frame\n",
        "metadata = pd.merge(images_df\n",
        "                    labels_df,\n",
        "                    on='Image_ID')\n",
        "metadata = pd.merge(metadata,\n",
        "                    split_df,\n",
        "                    on='Image_ID')\n",
        "metadata = pd.merge(metadata,\n",
        "                    bbox_df,\n",
        "                    on='Image_ID',\n",
        "                    how='left')\n",
        "\n",
        "# Inspect metadata\n",
        "print(metadata.head())"
      ]
    },
    {
      "cell_type": "code",
      "execution_count": null,
      "metadata": {
        "collapsed": true,
        "id": "W6d4CfjYWdbP"
      },
      "outputs": [],
      "source": [
        "# Save metadata\n",
        "metadata.to_json('CUB_200_2011_metadata',\n",
        "                 orient='records',\n",
        "                 lines=True)"
      ]
    },
    {
      "cell_type": "code",
      "source": [
        "!gsutil cp CUB_200_2011_metadata gs://bucket/bird-classification"
      ],
      "metadata": {
        "id": "4scJi_pmC5sl"
      },
      "execution_count": null,
      "outputs": []
    },
    {
      "cell_type": "code",
      "execution_count": null,
      "metadata": {
        "id": "hzl_75Bviwxt"
      },
      "outputs": [],
      "source": [
        "import json\n",
        "\n",
        "# Create class mapping\n",
        "classes_df = pd.read_csv('bird-classification/CUB_200_2011/classes.txt',\n",
        "                         sep=' ',\n",
        "                         header=None,\n",
        "                         names=['Class_ID', 'Class_Name'])\n",
        "class_mapping = {row['Class_ID']: row['Class_Name'] for _, row in classes_df.iterrows()}"
      ]
    },
    {
      "cell_type": "code",
      "source": [
        "# Save class mapping\n",
        "with open('CUB_200_2011_label_mapping', 'w') as f:\n",
        "    json.dump(class_mapping, f, indent=4)"
      ],
      "metadata": {
        "id": "Kr7I3qLmwuDq"
      },
      "execution_count": null,
      "outputs": []
    },
    {
      "cell_type": "code",
      "source": [
        "# Inspect class mapping\n",
        "print(class_mapping)"
      ],
      "metadata": {
        "id": "2dbP0mHuwwIZ"
      },
      "execution_count": null,
      "outputs": []
    },
    {
      "cell_type": "code",
      "execution_count": null,
      "metadata": {
        "id": "mabsbLgbb3Jh"
      },
      "outputs": [],
      "source": [
        "!gsutil cp CUB_200_2011_label_mapping gs://colab_data_bucket/bird-classification/"
      ]
    },
    {
      "cell_type": "markdown",
      "source": [
        "## Split data"
      ],
      "metadata": {
        "id": "ZK-NeDSnRR4T"
      }
    },
    {
      "cell_type": "code",
      "execution_count": null,
      "metadata": {
        "id": "1recV0f6qLpG"
      },
      "outputs": [],
      "source": [
        "# Split the metadata into training and test sets\n",
        "train_data = metadata[metadata['Is_Training'] == 1]\n",
        "test_data = metadata[metadata['Is_Training'] == 0]"
      ]
    },
    {
      "cell_type": "code",
      "execution_count": null,
      "metadata": {
        "id": "KQipnodZdXGB"
      },
      "outputs": [],
      "source": [
        "# Using metadata prepare dataset for yolov7\n",
        "import os\n",
        "import shutil\n",
        "import cv2\n",
        "import pandas as pd\n",
        "\n",
        "# Train and validation images directory paths\n",
        "train_image_dir = '/content/dataset/train/images/'\n",
        "val_image_dir = '/content/dataset/val/images/'\n",
        "\n",
        "# Train and validation label paths\n",
        "train_label_dir = '/content/dataset/train/labels/'\n",
        "val_label_dir = '/content/dataset/val/labels/'\n",
        "\n",
        "os.makedirs(train_image_dir, exist_ok=True)\n",
        "os.makedirs(val_image_dir, exist_ok=True)\n",
        "os.makedirs(train_label_dir, exist_ok=True)\n",
        "os.makedirs(val_label_dir, exist_ok=True)\n",
        "\n",
        "with open('CUB_200_2011_label_mapping', 'r') as f:\n",
        "    class_mapping = json.load(f)\n",
        "\n",
        "# Converts bounding box data to YOLO format\n",
        "def bbox_to_yolo(row, img_width, img_height):\n",
        "    x_center = (row['X'] + row['Width'] / 2) / img_width\n",
        "    y_center = (row['Y'] + row['Height'] / 2) / img_height\n",
        "    width = row['Width'] / img_width\n",
        "    height = row['Height'] / img_height\n",
        "    # Subtract 1 from Class_ID to convert the 1-based indexing of the CUB_200_2011 dataset to the 0-based indexing required for YOLO\n",
        "    return f\"{row['Class_ID'] - 1} {x_center} {y_center} {width} {height}\\n\"\n",
        "\n",
        "# Process each image\n",
        "for _, row in metadata.iterrows():\n",
        "    img_path = os.path.join('bird-classification/CUB_200_2011/images/', row['File_Path'])\n",
        "\n",
        "    # Extract the image base name\n",
        "    img_base_name = os.path.splitext(os.path.basename(row['File_Path']))[0]\n",
        "\n",
        "    if row['Is_Training'] == 1:\n",
        "        target_image_dir = train_image_dir\n",
        "        target_label_dir = train_label_dir\n",
        "    else:\n",
        "        target_image_dir = val_image_dir\n",
        "        target_label_dir = val_label_dir\n",
        "\n",
        "    # Copy image to corresponding directory\n",
        "    shutil.copy(img_path, target_image_dir)\n",
        "\n",
        "    # Get image size\n",
        "    img = cv2.imread(img_path)\n",
        "    img_height, img_width, _ = img.shape\n",
        "\n",
        "    # Create corresponding label file with the same base name as the image\n",
        "    label_file = os.path.join(target_label_dir, f\"{img_base_name}.txt\")\n",
        "\n",
        "    # Collect all bounding box data for this image\n",
        "    with open(label_file, 'w') as f:\n",
        "        f.write(bbox_to_yolo(row, img_width, img_height))"
      ]
    },
    {
      "cell_type": "code",
      "execution_count": null,
      "metadata": {
        "id": "FuB-n2pbiv9F"
      },
      "outputs": [],
      "source": [
        "# Save dataset\n",
        "!gsutil cp dataset.zip gs://bucket/bird-classification"
      ]
    },
    {
      "cell_type": "markdown",
      "source": [
        "## Prepare dataset.yaml config file"
      ],
      "metadata": {
        "id": "XZElcfYVQ76t"
      }
    },
    {
      "cell_type": "code",
      "execution_count": null,
      "metadata": {
        "id": "DmDmTPkz9XxE"
      },
      "outputs": [],
      "source": [
        "# Create dataset.yaml file\n",
        "import yaml\n",
        "import json\n",
        "\n",
        "# Load class names from class mappings\n",
        "with open('/content/CUB_200_2011_label_mapping', 'r') as f:\n",
        "    class_names = json.load(f)\n",
        "\n",
        "# Remove the numeric prefix from class names\n",
        "names = [name.split('.', 1)[1] for name in class_names.values()]\n",
        "\n",
        "# Prepare the YAML content\n",
        "yaml_content = {\n",
        "    'train': './dataset/train/images/',\n",
        "    'val': './dataset/val/images/',\n",
        "    'nc': len(names),\n",
        "    'names': names\n",
        "}\n",
        "\n",
        "with open('dataset.yaml', 'w') as yaml_file:\n",
        "    yaml.dump(yaml_content, yaml_file)\n"
      ]
    },
    {
      "cell_type": "code",
      "source": [
        "# Check the content of the generated dataset.yaml file\n",
        "with open('dataset.yaml', 'r') as f:\n",
        "    print(f.read())"
      ],
      "metadata": {
        "id": "hYvZHp5X_xHg"
      },
      "execution_count": null,
      "outputs": []
    },
    {
      "cell_type": "code",
      "source": [
        "!gsutil cp -r dataset.yaml gs://bucket/bird-classification"
      ],
      "metadata": {
        "id": "1U132w3pMTUm"
      },
      "execution_count": null,
      "outputs": []
    },
    {
      "cell_type": "markdown",
      "metadata": {
        "id": "6PlpIn9TEr08"
      },
      "source": [
        "# Move the data to the virtual machine"
      ]
    },
    {
      "cell_type": "code",
      "execution_count": null,
      "metadata": {
        "id": "WdezFFkR-m51"
      },
      "outputs": [],
      "source": [
        "!scp /content/dataset.yaml timon_l_tukei@00.00.000.000:/bird-classification/yolov7/dataset.yaml\n",
        "!scp /content/dataset timon_l_tukei@00.00.000.000:/bird-classification/yolov7/dataset"
      ]
    },
    {
      "cell_type": "markdown",
      "source": [
        "## Prepare enviroment"
      ],
      "metadata": {
        "id": "Fg1gNGNoVGEq"
      }
    },
    {
      "cell_type": "markdown",
      "metadata": {
        "id": "Wq3n2wLJB8n1"
      },
      "source": [
        "```\n",
        "mkdir bird-classification && cd bird-classification\n",
        "python3 -m venv venv\n",
        "source venv/bin/activate\n",
        "git clone https://github.com/WongKinYiu/yolov7.git\n",
        "cd yolov7\n",
        "pip install -r requierments\n",
        "```\n",
        "\n"
      ]
    },
    {
      "cell_type": "markdown",
      "source": [
        "## Train the model"
      ],
      "metadata": {
        "id": "WqK6bcLiT_pT"
      }
    },
    {
      "cell_type": "markdown",
      "source": [
        "```\n",
        "nohup python train.py \\\n",
        "  --workers 2 \\\n",
        "  --device 0 \\\n",
        "  --batch-size 16 \\\n",
        "  --data dataset.yaml \\\n",
        "  --img 640 640 \\\n",
        "  --cfg cfg/training/yolov7.yaml \\\n",
        "  --weights '' \\\n",
        "  --name yolov7 \\\n",
        "  --hyp data/hyp.scratch.p5.yaml \\\n",
        "  > train.log 2>&1 &\n",
        "```"
      ],
      "metadata": {
        "id": "CDaxbWtDUFpD"
      }
    },
    {
      "cell_type": "markdown",
      "source": [
        "# Evaluate model"
      ],
      "metadata": {
        "id": "QSf26eex2l7u"
      }
    },
    {
      "cell_type": "markdown",
      "source": [
        "Please reffer to model_evaluation_report.md"
      ],
      "metadata": {
        "id": "GBVPbnb8N7zu"
      }
    }
  ],
  "metadata": {
    "accelerator": "GPU",
    "colab": {
      "gpuType": "T4",
      "provenance": []
    },
    "kernelspec": {
      "display_name": "Python 3",
      "name": "python3"
    },
    "language_info": {
      "name": "python"
    }
  },
  "nbformat": 4,
  "nbformat_minor": 0
}